{
 "cells": [
  {
   "cell_type": "code",
   "execution_count": 79,
   "id": "d7e870fa-70db-4e2a-b675-46c9dbbacb8e",
   "metadata": {
    "tags": []
   },
   "outputs": [],
   "source": [
    "import os\n",
    "import requests\n",
    "import json\n",
    "import pandas as pd\n",
    "from tqdm import tqdm"
   ]
  },
  {
   "cell_type": "code",
   "execution_count": 80,
   "id": "2d20bf98-23ec-47ed-9cf9-7149c316e30d",
   "metadata": {
    "tags": []
   },
   "outputs": [],
   "source": [
    "TTBKEY = 'ttbqkrdlstn97011854001'"
   ]
  },
  {
   "cell_type": "code",
   "execution_count": 81,
   "id": "13bd5546-0b62-4154-99e8-9876c6c92315",
   "metadata": {
    "tags": []
   },
   "outputs": [],
   "source": [
    "CategoryId = [\n",
    "    351, 2630, 2643, 2632, 2672, 2669, 7439, 2633, 2673, 2648, 2655, 2645, 55977, 55981, 55978, \n",
    "    55979, 55055, 55057, 55056, 2599, 2607, 2602, 2601, 2606, 2608, 2600, 6348, 2663, 2665, 2662, \n",
    "    7395, 2661, 6163, 6165, 2666, 6355, 128622, 128624, 128623, 2719, 2737, 6794, 2744, 2724, 2732, \n",
    "    2735, 3239, 2721, 5056, 5058, 5059, 5061, 5063, 6576, 6577, 6578, 7396, 6589, 2756, 7411, 427, \n",
    "    6593, 2065, 2509, 2510, 2684, 1714, 2753, 6188, 35322, 6627, 2687, 6720, 437, 6356, 6358, 6360, \n",
    "    6361, 6362, 6365, 6989, 2502, 6734, 6357, 14605, 6350, 6385, 6386, 7397, 35323, 2704, 6351, \n",
    "    15778, 6353, 6352, 6437, 479, 6892, 2836, 6995, 6996, 6997, 12984, 485, 2999, 2847, 7013, 7012, \n",
    "    7014, 6891, 483, 486, 7006, 7007, 5581, 68185, 36134, 6636, 2835, 6436, 2839, 2838, 2349, 2413, \n",
    "    2757, 2350, 363, 6369, 387, 6381, 2767, 2765, 49733, 2770, 2773, 2766, 2613, 6346, 6889, 6890, \n",
    "    2615, 3023, 2621\n",
    "]"
   ]
  },
  {
   "cell_type": "code",
   "execution_count": 82,
   "id": "28c0674e-329c-493f-97e0-80aed7e8cece",
   "metadata": {
    "tags": []
   },
   "outputs": [],
   "source": [
    "def make_book(cid, start, max_results,ttbkey=TTBKEY, QueryType=\"Bestseller\"):\n",
    "    url = \"http://www.aladin.co.kr/ttb/api/ItemList.aspx\"\n",
    "    params = {\n",
    "        \"TTBKey\": ttbkey,\n",
    "        \"QueryType\": QueryType,\n",
    "        \"Version\": \"20131101\",\n",
    "        \"SearchTarget\": \"Book\",\n",
    "        \"CategoryId\": cid,\n",
    "        \"start\": start,\n",
    "        \"MaxResults\": max_results,\n",
    "        \"output\": \"js\",\n",
    "    }\n",
    "    \n",
    "    try:\n",
    "        response = requests.get(url, params=params, timeout=10)\n",
    "        # print(f\"응답 데이터: {response.text}\")\n",
    "        # print(f\"HTTP 응답 상태 코드: {response.status_code}\")  # 상태 코드 확인\n",
    "        # response.raise_for_status()  # HTTP 에러 발생 시 예외 처리\n",
    "        data = response.json()  # JSON 데이터 파싱\n",
    "    except (requests.RequestException, json.JSONDecodeError) as e:\n",
    "        print(f\"API 호출 오류: {e}\")\n",
    "        return pd.DataFrame()  # 빈 데이터프레임 반환\n",
    "    \n",
    "    if \"item\" in data:\n",
    "        items = [\n",
    "            {\n",
    "                \"title\": item.get(\"title\", \"\"),\n",
    "                \"link\": item.get(\"link\", \"\"),\n",
    "                \"author\": item.get(\"author\", \"\"),\n",
    "                \"pubDate\": item.get(\"pubDate\", \"\"),\n",
    "                \"description\": item.get(\"description\", \"\"),\n",
    "                \"isbn\": item.get(\"isbn\", \"\"),\n",
    "                \"isbn13\": item.get(\"isbn13\", \"\"),\n",
    "                \"itemId\": item.get(\"itemId\", \"\"),\n",
    "                \"priceSales\": item.get(\"priceSales\", \"\"),\n",
    "                \"priceStandard\": item.get(\"priceStandard\", \"\"),\n",
    "                \"categoryId\": item.get(\"categoryId\", \"\"),\n",
    "                \"categoryName\": item.get(\"categoryName\", \"\"),\n",
    "                \"publisher\": item.get(\"publisher\", \"\"),\n",
    "                \"customerReviewRank\": item.get(\"customerReviewRank\", \"\"),\n",
    "            }\n",
    "            for item in data[\"item\"]\n",
    "        ]\n",
    "        return pd.DataFrame(items)\n",
    "    else:\n",
    "        print(\"API 호출 성공, 그러나 반환된 데이터가 없습니다.\")\n",
    "        return pd.DataFrame()  # 빈 데이터프레임 반환"
   ]
  },
  {
   "cell_type": "code",
   "execution_count": 83,
   "id": "01b006c5-2958-4059-9d50-f057b129ad90",
   "metadata": {
    "tags": []
   },
   "outputs": [],
   "source": [
    "def collect_books_no_limit(CategoryId, ttbkey=TTBKEY):\n",
    "    df = pd.DataFrame(columns=[\n",
    "        \"title\", \"link\", \"author\", \"pubDate\", \"description\", \"isbn\", \"isbn13\",\n",
    "        \"itemId\", \"priceSales\", \"priceStandard\", \"categoryId\", \"categoryName\",\n",
    "        \"publisher\", \"customerReviewRank\",\n",
    "    ])\n",
    "\n",
    "    start = 1\n",
    "    max_results_per_call = 50\n",
    "    \n",
    "    for cid in tqdm(CategoryId):\n",
    "        new_data = make_book(cid, start=start, max_results=max_results_per_call)\n",
    "        \n",
    "        if new_data.empty:\n",
    "            print(f\"카테고리 ID : {cid} . 데이터 수집이 중단되었습니다. (API 호출 실패 또는 데이터 부족)\")\n",
    "        else:\n",
    "            df = pd.concat([df, new_data]).drop_duplicates(subset=[\"itemId\"], ignore_index=True)\n",
    "    \n",
    "    return df"
   ]
  },
  {
   "cell_type": "code",
   "execution_count": 84,
   "id": "920e29d7-59e6-437e-b0fd-c4b6eb9d8e2b",
   "metadata": {
    "tags": []
   },
   "outputs": [
    {
     "name": "stderr",
     "output_type": "stream",
     "text": [
      "  4%|▍         | 6/143 [00:01<00:28,  4.77it/s]"
     ]
    },
    {
     "name": "stdout",
     "output_type": "stream",
     "text": [
      "카테고리 ID : 2672 . 데이터 수집이 중단되었습니다. (API 호출 실패 또는 데이터 부족)\n"
     ]
    },
    {
     "name": "stderr",
     "output_type": "stream",
     "text": [
      "  6%|▌         | 8/143 [00:01<00:22,  5.95it/s]"
     ]
    },
    {
     "name": "stdout",
     "output_type": "stream",
     "text": [
      "카테고리 ID : 7439 . 데이터 수집이 중단되었습니다. (API 호출 실패 또는 데이터 부족)\n"
     ]
    },
    {
     "name": "stderr",
     "output_type": "stream",
     "text": [
      "  8%|▊         | 12/143 [00:02<00:16,  8.11it/s]"
     ]
    },
    {
     "name": "stdout",
     "output_type": "stream",
     "text": [
      "카테고리 ID : 2655 . 데이터 수집이 중단되었습니다. (API 호출 실패 또는 데이터 부족)\n"
     ]
    },
    {
     "name": "stderr",
     "output_type": "stream",
     "text": [
      " 15%|█▌        | 22/143 [00:03<00:19,  6.23it/s]"
     ]
    },
    {
     "name": "stdout",
     "output_type": "stream",
     "text": [
      "카테고리 ID : 2607 . 데이터 수집이 중단되었습니다. (API 호출 실패 또는 데이터 부족)\n"
     ]
    },
    {
     "name": "stderr",
     "output_type": "stream",
     "text": [
      " 20%|██        | 29/143 [00:04<00:14,  8.13it/s]"
     ]
    },
    {
     "name": "stdout",
     "output_type": "stream",
     "text": [
      "카테고리 ID : 2663 . 데이터 수집이 중단되었습니다. (API 호출 실패 또는 데이터 부족)\n",
      "카테고리 ID : 2665 . 데이터 수집이 중단되었습니다. (API 호출 실패 또는 데이터 부족)\n"
     ]
    },
    {
     "name": "stderr",
     "output_type": "stream",
     "text": [
      " 24%|██▍       | 34/143 [00:05<00:14,  7.34it/s]"
     ]
    },
    {
     "name": "stdout",
     "output_type": "stream",
     "text": [
      "카테고리 ID : 2666 . 데이터 수집이 중단되었습니다. (API 호출 실패 또는 데이터 부족)\n"
     ]
    },
    {
     "name": "stderr",
     "output_type": "stream",
     "text": [
      " 36%|███▌      | 51/143 [00:08<00:11,  7.86it/s]"
     ]
    },
    {
     "name": "stdout",
     "output_type": "stream",
     "text": [
      "카테고리 ID : 5056 . 데이터 수집이 중단되었습니다. (API 호출 실패 또는 데이터 부족)\n",
      "카테고리 ID : 5058 . 데이터 수집이 중단되었습니다. (API 호출 실패 또는 데이터 부족)\n",
      "카테고리 ID : 5059 . 데이터 수집이 중단되었습니다. (API 호출 실패 또는 데이터 부족)\n"
     ]
    },
    {
     "name": "stderr",
     "output_type": "stream",
     "text": [
      " 37%|███▋      | 53/143 [00:08<00:10,  8.92it/s]"
     ]
    },
    {
     "name": "stdout",
     "output_type": "stream",
     "text": [
      "카테고리 ID : 5061 . 데이터 수집이 중단되었습니다. (API 호출 실패 또는 데이터 부족)\n",
      "카테고리 ID : 5063 . 데이터 수집이 중단되었습니다. (API 호출 실패 또는 데이터 부족)\n",
      "카테고리 ID : 6576 . 데이터 수집이 중단되었습니다. (API 호출 실패 또는 데이터 부족)\n"
     ]
    },
    {
     "name": "stderr",
     "output_type": "stream",
     "text": [
      " 39%|███▉      | 56/143 [00:09<00:08,  9.89it/s]"
     ]
    },
    {
     "name": "stdout",
     "output_type": "stream",
     "text": [
      "카테고리 ID : 6577 . 데이터 수집이 중단되었습니다. (API 호출 실패 또는 데이터 부족)\n",
      "카테고리 ID : 6578 . 데이터 수집이 중단되었습니다. (API 호출 실패 또는 데이터 부족)\n"
     ]
    },
    {
     "name": "stderr",
     "output_type": "stream",
     "text": [
      " 45%|████▍     | 64/143 [00:11<00:16,  4.77it/s]"
     ]
    },
    {
     "name": "stdout",
     "output_type": "stream",
     "text": [
      "카테고리 ID : 2065 . 데이터 수집이 중단되었습니다. (API 호출 실패 또는 데이터 부족)\n"
     ]
    },
    {
     "name": "stderr",
     "output_type": "stream",
     "text": [
      " 54%|█████▍    | 77/143 [00:13<00:08,  7.68it/s]"
     ]
    },
    {
     "name": "stdout",
     "output_type": "stream",
     "text": [
      "카테고리 ID : 6358 . 데이터 수집이 중단되었습니다. (API 호출 실패 또는 데이터 부족)\n",
      "카테고리 ID : 6361 . 데이터 수집이 중단되었습니다. (API 호출 실패 또는 데이터 부족)\n"
     ]
    },
    {
     "name": "stderr",
     "output_type": "stream",
     "text": [
      " 57%|█████▋    | 81/143 [00:13<00:06,  9.61it/s]"
     ]
    },
    {
     "name": "stdout",
     "output_type": "stream",
     "text": [
      "카테고리 ID : 6362 . 데이터 수집이 중단되었습니다. (API 호출 실패 또는 데이터 부족)\n",
      "카테고리 ID : 6365 . 데이터 수집이 중단되었습니다. (API 호출 실패 또는 데이터 부족)\n",
      "카테고리 ID : 6989 . 데이터 수집이 중단되었습니다. (API 호출 실패 또는 데이터 부족)\n"
     ]
    },
    {
     "name": "stderr",
     "output_type": "stream",
     "text": [
      " 60%|██████    | 86/143 [00:14<00:09,  6.07it/s]"
     ]
    },
    {
     "name": "stdout",
     "output_type": "stream",
     "text": [
      "카테고리 ID : 14605 . 데이터 수집이 중단되었습니다. (API 호출 실패 또는 데이터 부족)\n",
      "카테고리 ID : 6350 . 데이터 수집이 중단되었습니다. (API 호출 실패 또는 데이터 부족)\n"
     ]
    },
    {
     "name": "stderr",
     "output_type": "stream",
     "text": [
      " 64%|██████▎   | 91/143 [00:15<00:06,  8.06it/s]"
     ]
    },
    {
     "name": "stdout",
     "output_type": "stream",
     "text": [
      "카테고리 ID : 35323 . 데이터 수집이 중단되었습니다. (API 호출 실패 또는 데이터 부족)\n",
      "카테고리 ID : 2704 . 데이터 수집이 중단되었습니다. (API 호출 실패 또는 데이터 부족)\n"
     ]
    },
    {
     "name": "stderr",
     "output_type": "stream",
     "text": [
      " 66%|██████▋   | 95/143 [00:15<00:04,  9.92it/s]"
     ]
    },
    {
     "name": "stdout",
     "output_type": "stream",
     "text": [
      "카테고리 ID : 15778 . 데이터 수집이 중단되었습니다. (API 호출 실패 또는 데이터 부족)\n",
      "카테고리 ID : 6352 . 데이터 수집이 중단되었습니다. (API 호출 실패 또는 데이터 부족)\n",
      "카테고리 ID : 6437 . 데이터 수집이 중단되었습니다. (API 호출 실패 또는 데이터 부족)\n"
     ]
    },
    {
     "name": "stderr",
     "output_type": "stream",
     "text": [
      " 73%|███████▎  | 105/143 [00:17<00:04,  8.79it/s]"
     ]
    },
    {
     "name": "stdout",
     "output_type": "stream",
     "text": [
      "카테고리 ID : 485 . 데이터 수집이 중단되었습니다. (API 호출 실패 또는 데이터 부족)\n",
      "카테고리 ID : 2999 . 데이터 수집이 중단되었습니다. (API 호출 실패 또는 데이터 부족)\n"
     ]
    },
    {
     "name": "stderr",
     "output_type": "stream",
     "text": [
      " 81%|████████  | 116/143 [00:18<00:03,  7.80it/s]"
     ]
    },
    {
     "name": "stdout",
     "output_type": "stream",
     "text": [
      "카테고리 ID : 5581 . 데이터 수집이 중단되었습니다. (API 호출 실패 또는 데이터 부족)\n"
     ]
    },
    {
     "name": "stderr",
     "output_type": "stream",
     "text": [
      " 84%|████████▍ | 120/143 [00:19<00:03,  7.37it/s]"
     ]
    },
    {
     "name": "stdout",
     "output_type": "stream",
     "text": [
      "카테고리 ID : 2835 . 데이터 수집이 중단되었습니다. (API 호출 실패 또는 데이터 부족)\n"
     ]
    },
    {
     "name": "stderr",
     "output_type": "stream",
     "text": [
      " 85%|████████▌ | 122/143 [00:19<00:02,  8.48it/s]"
     ]
    },
    {
     "name": "stdout",
     "output_type": "stream",
     "text": [
      "카테고리 ID : 2839 . 데이터 수집이 중단되었습니다. (API 호출 실패 또는 데이터 부족)\n",
      "카테고리 ID : 2838 . 데이터 수집이 중단되었습니다. (API 호출 실패 또는 데이터 부족)\n"
     ]
    },
    {
     "name": "stderr",
     "output_type": "stream",
     "text": [
      " 87%|████████▋ | 125/143 [00:19<00:02,  6.47it/s]"
     ]
    },
    {
     "name": "stdout",
     "output_type": "stream",
     "text": [
      "카테고리 ID : 2413 . 데이터 수집이 중단되었습니다. (API 호출 실패 또는 데이터 부족)\n"
     ]
    },
    {
     "name": "stderr",
     "output_type": "stream",
     "text": [
      " 94%|█████████▎| 134/143 [00:21<00:01,  8.87it/s]"
     ]
    },
    {
     "name": "stdout",
     "output_type": "stream",
     "text": [
      "카테고리 ID : 49733 . 데이터 수집이 중단되었습니다. (API 호출 실패 또는 데이터 부족)\n",
      "카테고리 ID : 2770 . 데이터 수집이 중단되었습니다. (API 호출 실패 또는 데이터 부족)\n"
     ]
    },
    {
     "name": "stderr",
     "output_type": "stream",
     "text": [
      " 98%|█████████▊| 140/143 [00:21<00:00,  7.79it/s]"
     ]
    },
    {
     "name": "stdout",
     "output_type": "stream",
     "text": [
      "카테고리 ID : 6890 . 데이터 수집이 중단되었습니다. (API 호출 실패 또는 데이터 부족)\n"
     ]
    },
    {
     "name": "stderr",
     "output_type": "stream",
     "text": [
      "100%|██████████| 143/143 [00:22<00:00,  6.42it/s]"
     ]
    },
    {
     "name": "stdout",
     "output_type": "stream",
     "text": [
      "카테고리 ID : 2621 . 데이터 수집이 중단되었습니다. (API 호출 실패 또는 데이터 부족)\n"
     ]
    },
    {
     "name": "stderr",
     "output_type": "stream",
     "text": [
      "\n"
     ]
    }
   ],
   "source": [
    "book_db = collect_books_no_limit(CategoryId=CategoryId)"
   ]
  },
  {
   "cell_type": "code",
   "execution_count": 85,
   "id": "5df6e3bc-f1d6-4d5b-b45c-0e693f8cb389",
   "metadata": {
    "tags": []
   },
   "outputs": [
    {
     "data": {
      "text/plain": [
       "1193"
      ]
     },
     "execution_count": 85,
     "metadata": {},
     "output_type": "execute_result"
    }
   ],
   "source": [
    "len(book_db)"
   ]
  },
  {
   "cell_type": "code",
   "execution_count": 8,
   "id": "48172354-24eb-4e11-8f0a-253523888379",
   "metadata": {
    "tags": []
   },
   "outputs": [],
   "source": [
    "def search_books(ttbkey, query=\"\", queryType=\"ItemNewAll\", start=1, max_results=50):\n",
    "    url = \"http://www.aladin.co.kr/ttb/api/ItemSearch.aspx\"\n",
    "    params = {\n",
    "        \"TTBKey\": ttbkey,\n",
    "        \"Query\": query,\n",
    "        \"QueryType\": queryType,\n",
    "        \"SearchTarget\": \"Book\",\n",
    "        \"CategoryId\": \"351\",  # IT/컴퓨터 카테고리\n",
    "        \"start\": start,\n",
    "        \"MaxResults\": max_results,\n",
    "        \"Cover\": \"None\",\n",
    "        \"output\": \"js\",\n",
    "        \"Sort\": \"PublishTime\",\n",
    "        \"Version\": \"20131101\",\n",
    "        \"outofStockfilter\": 1,\n",
    "        \"RecentPublishFilter\": 1,\n",
    "    }\n",
    "\n",
    "    try:\n",
    "        response = requests.get(url, params=params, timeout=10)\n",
    "        # print(f\"응답 데이터: {response.text}\")\n",
    "        # print(f\"HTTP 응답 상태 코드: {response.status_code}\")  # 상태 코드 확인\n",
    "        # response.raise_for_status()  # HTTP 에러 발생 시 예외 처리\n",
    "        data = response.json()  # JSON 데이터 파싱\n",
    "    except (requests.RequestException, json.JSONDecodeError) as e:\n",
    "        print(f\"API 호출 오류: {e}\")\n",
    "        return pd.DataFrame()  # 빈 데이터프레임 반환\n",
    "\n",
    "    if \"item\" in data:\n",
    "        items = [\n",
    "            {\n",
    "                \"title\": item.get(\"title\", \"\"),\n",
    "                \"link\": item.get(\"link\", \"\"),\n",
    "                \"author\": item.get(\"author\", \"\"),\n",
    "                \"pubDate\": item.get(\"pubDate\", \"\"),\n",
    "                \"description\": item.get(\"description\", \"\"),\n",
    "                \"isbn\": item.get(\"isbn\", \"\"),\n",
    "                \"isbn13\": item.get(\"isbn13\", \"\"),\n",
    "                \"itemId\": item.get(\"itemId\", \"\"),\n",
    "                \"priceSales\": item.get(\"priceSales\", \"\"),\n",
    "                \"priceStandard\": item.get(\"priceStandard\", \"\"),\n",
    "                \"categoryId\": item.get(\"categoryId\", \"\"),\n",
    "                \"categoryName\": item.get(\"categoryName\", \"\"),\n",
    "                \"publisher\": item.get(\"publisher\", \"\"),\n",
    "                \"customerReviewRank\": item.get(\"customerReviewRank\", \"\"),\n",
    "            }\n",
    "            for item in data[\"item\"]\n",
    "        ]\n",
    "        return pd.DataFrame(items)\n",
    "    else:\n",
    "        print(\"API 호출 성공, 그러나 반환된 데이터가 없습니다.\")\n",
    "        return pd.DataFrame()  # 빈 데이터프레임 반환\n",
    "\n",
    "def collect_books_no_limit(ttbkey, query=\"\"):\n",
    "    df = pd.DataFrame(columns=[\n",
    "        \"title\", \"link\", \"author\", \"pubDate\", \"description\", \"isbn\", \"isbn13\",\n",
    "        \"itemId\", \"priceSales\", \"priceStandard\", \"categoryId\", \"categoryName\",\n",
    "        \"publisher\", \"customerReviewRank\",\n",
    "    ])\n",
    "\n",
    "    start = 1\n",
    "    max_results_per_call = 50\n",
    "\n",
    "    while True:  # start <= 5 : 변경된 부분: 5회 반복으로 제한\n",
    "        new_data = search_books(ttbkey, query, start=start, max_results=max_results_per_call)\n",
    "\n",
    "        if new_data.empty:\n",
    "            print(\"데이터 수집이 중단되었습니다. (API 호출 실패 또는 데이터 부족)\")\n",
    "            break\n",
    "\n",
    "        df = pd.concat([df, new_data]).drop_duplicates(subset=[\"itemId\"], ignore_index=True)\n",
    "        print(start)\n",
    "        start += 1\n",
    "\n",
    "        if len(new_data) < max_results_per_call:\n",
    "            print(\"더 이상 데이터를 수집할 수 없습니다.\")\n",
    "            break\n",
    "\n",
    "    return df"
   ]
  },
  {
   "cell_type": "code",
   "execution_count": 9,
   "id": "c120fa31-9bb1-485a-bb1a-75fd99d96e8c",
   "metadata": {
    "tags": []
   },
   "outputs": [
    {
     "name": "stdout",
     "output_type": "stream",
     "text": [
      "1\n",
      "더 이상 데이터를 수집할 수 없습니다.\n"
     ]
    },
    {
     "data": {
      "text/html": [
       "<div>\n",
       "<style scoped>\n",
       "    .dataframe tbody tr th:only-of-type {\n",
       "        vertical-align: middle;\n",
       "    }\n",
       "\n",
       "    .dataframe tbody tr th {\n",
       "        vertical-align: top;\n",
       "    }\n",
       "\n",
       "    .dataframe thead th {\n",
       "        text-align: right;\n",
       "    }\n",
       "</style>\n",
       "<table border=\"1\" class=\"dataframe\">\n",
       "  <thead>\n",
       "    <tr style=\"text-align: right;\">\n",
       "      <th></th>\n",
       "      <th>title</th>\n",
       "      <th>link</th>\n",
       "      <th>author</th>\n",
       "      <th>pubDate</th>\n",
       "      <th>description</th>\n",
       "      <th>isbn</th>\n",
       "      <th>isbn13</th>\n",
       "      <th>itemId</th>\n",
       "      <th>priceSales</th>\n",
       "      <th>priceStandard</th>\n",
       "      <th>categoryId</th>\n",
       "      <th>categoryName</th>\n",
       "      <th>publisher</th>\n",
       "      <th>customerReviewRank</th>\n",
       "    </tr>\n",
       "  </thead>\n",
       "  <tbody>\n",
       "    <tr>\n",
       "      <th>0</th>\n",
       "      <td>밑바닥부터 시작하는 딥러닝 1 - 파이썬으로 익히는 딥러닝 이론과 구현, 리마스터판</td>\n",
       "      <td>http://www.aladin.co.kr/shop/wproduct.aspx?Ite...</td>\n",
       "      <td>사이토 고키 (지은이), 개앞맵시(이복연) (옮긴이)</td>\n",
       "      <td>2025-01-24</td>\n",
       "      <td>딥러닝의 핵심 개념을 ‘밑바닥부터’ 구현해보며 기초를 한 걸음씩 탄탄하게 다질 수 ...</td>\n",
       "      <td>K222036504</td>\n",
       "      <td>9791169213387</td>\n",
       "      <td>356399264</td>\n",
       "      <td>23400</td>\n",
       "      <td>26000</td>\n",
       "      <td>6794</td>\n",
       "      <td>국내도서&gt;컴퓨터/모바일&gt;컴퓨터 공학&gt;데이터베이스 개론</td>\n",
       "      <td>한빛미디어</td>\n",
       "      <td>9</td>\n",
       "    </tr>\n",
       "    <tr>\n",
       "      <th>1</th>\n",
       "      <td>핵심만 쏙쏙! 쉽게 배우는 파이썬</td>\n",
       "      <td>http://www.aladin.co.kr/shop/wproduct.aspx?Ite...</td>\n",
       "      <td>양숙희, 장은실, 오경선 (지은이)</td>\n",
       "      <td>2025-01-24</td>\n",
       "      <td>파이썬의 기초를 다지는 데 꼭 필요한 내용을 선별하여 복잡함을 최소화했다. “왜 파...</td>\n",
       "      <td>8989383129</td>\n",
       "      <td>9788989383123</td>\n",
       "      <td>356277845</td>\n",
       "      <td>24000</td>\n",
       "      <td>24000</td>\n",
       "      <td>6734</td>\n",
       "      <td>국내도서&gt;컴퓨터/모바일&gt;프로그래밍 언어&gt;파이썬</td>\n",
       "      <td>배움터</td>\n",
       "      <td>0</td>\n",
       "    </tr>\n",
       "    <tr>\n",
       "      <th>2</th>\n",
       "      <td>AI 시대의 파이썬 데이터 분석 - 다양한 예제로 실습하고 프로젝트로 완성한다!</td>\n",
       "      <td>http://www.aladin.co.kr/shop/wproduct.aspx?Ite...</td>\n",
       "      <td>오세종 (지은이)</td>\n",
       "      <td>2025-01-19</td>\n",
       "      <td>파이썬을 활용하여 데이터 분석을 배우려는 독자를 대상으로 하며, 다양한 실습을 통해...</td>\n",
       "      <td>K182036395</td>\n",
       "      <td>9791173400087</td>\n",
       "      <td>356316564</td>\n",
       "      <td>32000</td>\n",
       "      <td>32000</td>\n",
       "      <td>179288</td>\n",
       "      <td>국내도서&gt;수험서/자격증&gt;민간자격&gt;데이터분석</td>\n",
       "      <td>한빛아카데미(교재)</td>\n",
       "      <td>0</td>\n",
       "    </tr>\n",
       "    <tr>\n",
       "      <th>3</th>\n",
       "      <td>파이썬 마스터 - 실생활 융합 예제로 배우는</td>\n",
       "      <td>http://www.aladin.co.kr/shop/wproduct.aspx?Ite...</td>\n",
       "      <td>김종훈, 김동건 (지은이)</td>\n",
       "      <td>2025-01-17</td>\n",
       "      <td>파이썬 프로그래밍 기초와 데이터 분석을 한 권으로 마스터하는 파이썬 기본서. 파이썬...</td>\n",
       "      <td>K522036896</td>\n",
       "      <td>9791173400018</td>\n",
       "      <td>355902182</td>\n",
       "      <td>32000</td>\n",
       "      <td>32000</td>\n",
       "      <td>6734</td>\n",
       "      <td>국내도서&gt;컴퓨터/모바일&gt;프로그래밍 언어&gt;파이썬</td>\n",
       "      <td>한빛아카데미(교재)</td>\n",
       "      <td>0</td>\n",
       "    </tr>\n",
       "    <tr>\n",
       "      <th>4</th>\n",
       "      <td>파이썬 워크북</td>\n",
       "      <td>http://www.aladin.co.kr/shop/wproduct.aspx?Ite...</td>\n",
       "      <td>안기수 (지은이)</td>\n",
       "      <td>2025-01-17</td>\n",
       "      <td>파이썬 언어를 쉽게 이해하기 위해 워크북으로 실습하는 프로그래밍 입문서다. 코딩을 ...</td>\n",
       "      <td>K712036278</td>\n",
       "      <td>9791192932682</td>\n",
       "      <td>355394344</td>\n",
       "      <td>15000</td>\n",
       "      <td>15000</td>\n",
       "      <td>6734</td>\n",
       "      <td>국내도서&gt;컴퓨터/모바일&gt;프로그래밍 언어&gt;파이썬</td>\n",
       "      <td>생능</td>\n",
       "      <td>0</td>\n",
       "    </tr>\n",
       "    <tr>\n",
       "      <th>5</th>\n",
       "      <td>최신 파이썬 완전정복 : 기초에서 심화까지</td>\n",
       "      <td>http://www.aladin.co.kr/shop/wproduct.aspx?Ite...</td>\n",
       "      <td>강환수 (지은이)</td>\n",
       "      <td>2025-01-12</td>\n",
       "      <td></td>\n",
       "      <td>K992035710</td>\n",
       "      <td>9791156002352</td>\n",
       "      <td>353808974</td>\n",
       "      <td>34000</td>\n",
       "      <td>34000</td>\n",
       "      <td>6734</td>\n",
       "      <td>국내도서&gt;컴퓨터/모바일&gt;프로그래밍 언어&gt;파이썬</td>\n",
       "      <td>홍릉(홍릉과학출판사)</td>\n",
       "      <td>0</td>\n",
       "    </tr>\n",
       "    <tr>\n",
       "      <th>6</th>\n",
       "      <td>파이썬 업무 자동화 일잘러 되기 + 챗GPT - 파이썬, 엑셀, 워드, 파워포인트,...</td>\n",
       "      <td>http://www.aladin.co.kr/shop/wproduct.aspx?Ite...</td>\n",
       "      <td>메이허 (지은이)</td>\n",
       "      <td>2025-01-10</td>\n",
       "      <td>반복 작업과 대량의 데이터 처리 작업에 지쳐버린 당신에게 이 책을 선물한다. 파일,...</td>\n",
       "      <td>K802035420</td>\n",
       "      <td>9791194383130</td>\n",
       "      <td>354137053</td>\n",
       "      <td>32400</td>\n",
       "      <td>36000</td>\n",
       "      <td>6357</td>\n",
       "      <td>국내도서&gt;컴퓨터/모바일&gt;프로그래밍 언어&gt;프로그래밍 언어 기타</td>\n",
       "      <td>골든래빗(주)</td>\n",
       "      <td>0</td>\n",
       "    </tr>\n",
       "    <tr>\n",
       "      <th>7</th>\n",
       "      <td>파이썬으로 제어하는 마이크로비트 - 개정판</td>\n",
       "      <td>http://www.aladin.co.kr/shop/wproduct.aspx?Ite...</td>\n",
       "      <td>북마크 (지은이)</td>\n",
       "      <td>2025-01-02</td>\n",
       "      <td></td>\n",
       "      <td>K412036098</td>\n",
       "      <td>9791141971335</td>\n",
       "      <td>356006960</td>\n",
       "      <td>10900</td>\n",
       "      <td>10900</td>\n",
       "      <td>6734</td>\n",
       "      <td>국내도서&gt;컴퓨터/모바일&gt;프로그래밍 언어&gt;파이썬</td>\n",
       "      <td>부크크(bookk)</td>\n",
       "      <td>0</td>\n",
       "    </tr>\n",
       "    <tr>\n",
       "      <th>8</th>\n",
       "      <td>마이크로파이썬을 활용한 사물인터넷 - 챗GPT로 코딩하기</td>\n",
       "      <td>http://www.aladin.co.kr/shop/wproduct.aspx?Ite...</td>\n",
       "      <td>양재삼 (지은이)</td>\n",
       "      <td>2025-01-02</td>\n",
       "      <td>간결한 언어인 마이크로파이썬을 활용해 누구나 쉽게 사물인터넷(IoT)을 시작할 수 ...</td>\n",
       "      <td>K932036178</td>\n",
       "      <td>9791173400049</td>\n",
       "      <td>355341238</td>\n",
       "      <td>28000</td>\n",
       "      <td>28000</td>\n",
       "      <td>6734</td>\n",
       "      <td>국내도서&gt;컴퓨터/모바일&gt;프로그래밍 언어&gt;파이썬</td>\n",
       "      <td>한빛아카데미(교재)</td>\n",
       "      <td>0</td>\n",
       "    </tr>\n",
       "    <tr>\n",
       "      <th>9</th>\n",
       "      <td>Python 리터러시</td>\n",
       "      <td>http://www.aladin.co.kr/shop/wproduct.aspx?Ite...</td>\n",
       "      <td>민상준 (지은이)</td>\n",
       "      <td>2024-12-30</td>\n",
       "      <td></td>\n",
       "      <td>K852036099</td>\n",
       "      <td>9791141970338</td>\n",
       "      <td>356015432</td>\n",
       "      <td>19200</td>\n",
       "      <td>19200</td>\n",
       "      <td>6734</td>\n",
       "      <td>국내도서&gt;컴퓨터/모바일&gt;프로그래밍 언어&gt;파이썬</td>\n",
       "      <td>부크크(bookk)</td>\n",
       "      <td>0</td>\n",
       "    </tr>\n",
       "  </tbody>\n",
       "</table>\n",
       "</div>"
      ],
      "text/plain": [
       "                                               title  \\\n",
       "0     밑바닥부터 시작하는 딥러닝 1 - 파이썬으로 익히는 딥러닝 이론과 구현, 리마스터판   \n",
       "1                                 핵심만 쏙쏙! 쉽게 배우는 파이썬   \n",
       "2       AI 시대의 파이썬 데이터 분석 - 다양한 예제로 실습하고 프로젝트로 완성한다!   \n",
       "3                           파이썬 마스터 - 실생활 융합 예제로 배우는   \n",
       "4                                            파이썬 워크북   \n",
       "5                            최신 파이썬 완전정복 : 기초에서 심화까지   \n",
       "6  파이썬 업무 자동화 일잘러 되기 + 챗GPT - 파이썬, 엑셀, 워드, 파워포인트,...   \n",
       "7                            파이썬으로 제어하는 마이크로비트 - 개정판   \n",
       "8                    마이크로파이썬을 활용한 사물인터넷 - 챗GPT로 코딩하기   \n",
       "9                                        Python 리터러시   \n",
       "\n",
       "                                                link  \\\n",
       "0  http://www.aladin.co.kr/shop/wproduct.aspx?Ite...   \n",
       "1  http://www.aladin.co.kr/shop/wproduct.aspx?Ite...   \n",
       "2  http://www.aladin.co.kr/shop/wproduct.aspx?Ite...   \n",
       "3  http://www.aladin.co.kr/shop/wproduct.aspx?Ite...   \n",
       "4  http://www.aladin.co.kr/shop/wproduct.aspx?Ite...   \n",
       "5  http://www.aladin.co.kr/shop/wproduct.aspx?Ite...   \n",
       "6  http://www.aladin.co.kr/shop/wproduct.aspx?Ite...   \n",
       "7  http://www.aladin.co.kr/shop/wproduct.aspx?Ite...   \n",
       "8  http://www.aladin.co.kr/shop/wproduct.aspx?Ite...   \n",
       "9  http://www.aladin.co.kr/shop/wproduct.aspx?Ite...   \n",
       "\n",
       "                          author     pubDate  \\\n",
       "0  사이토 고키 (지은이), 개앞맵시(이복연) (옮긴이)  2025-01-24   \n",
       "1            양숙희, 장은실, 오경선 (지은이)  2025-01-24   \n",
       "2                      오세종 (지은이)  2025-01-19   \n",
       "3                 김종훈, 김동건 (지은이)  2025-01-17   \n",
       "4                      안기수 (지은이)  2025-01-17   \n",
       "5                      강환수 (지은이)  2025-01-12   \n",
       "6                      메이허 (지은이)  2025-01-10   \n",
       "7                      북마크 (지은이)  2025-01-02   \n",
       "8                      양재삼 (지은이)  2025-01-02   \n",
       "9                      민상준 (지은이)  2024-12-30   \n",
       "\n",
       "                                         description        isbn  \\\n",
       "0  딥러닝의 핵심 개념을 ‘밑바닥부터’ 구현해보며 기초를 한 걸음씩 탄탄하게 다질 수 ...  K222036504   \n",
       "1  파이썬의 기초를 다지는 데 꼭 필요한 내용을 선별하여 복잡함을 최소화했다. “왜 파...  8989383129   \n",
       "2  파이썬을 활용하여 데이터 분석을 배우려는 독자를 대상으로 하며, 다양한 실습을 통해...  K182036395   \n",
       "3  파이썬 프로그래밍 기초와 데이터 분석을 한 권으로 마스터하는 파이썬 기본서. 파이썬...  K522036896   \n",
       "4  파이썬 언어를 쉽게 이해하기 위해 워크북으로 실습하는 프로그래밍 입문서다. 코딩을 ...  K712036278   \n",
       "5                                                     K992035710   \n",
       "6  반복 작업과 대량의 데이터 처리 작업에 지쳐버린 당신에게 이 책을 선물한다. 파일,...  K802035420   \n",
       "7                                                     K412036098   \n",
       "8  간결한 언어인 마이크로파이썬을 활용해 누구나 쉽게 사물인터넷(IoT)을 시작할 수 ...  K932036178   \n",
       "9                                                     K852036099   \n",
       "\n",
       "          isbn13     itemId priceSales priceStandard categoryId  \\\n",
       "0  9791169213387  356399264      23400         26000       6794   \n",
       "1  9788989383123  356277845      24000         24000       6734   \n",
       "2  9791173400087  356316564      32000         32000     179288   \n",
       "3  9791173400018  355902182      32000         32000       6734   \n",
       "4  9791192932682  355394344      15000         15000       6734   \n",
       "5  9791156002352  353808974      34000         34000       6734   \n",
       "6  9791194383130  354137053      32400         36000       6357   \n",
       "7  9791141971335  356006960      10900         10900       6734   \n",
       "8  9791173400049  355341238      28000         28000       6734   \n",
       "9  9791141970338  356015432      19200         19200       6734   \n",
       "\n",
       "                        categoryName    publisher customerReviewRank  \n",
       "0      국내도서>컴퓨터/모바일>컴퓨터 공학>데이터베이스 개론        한빛미디어                  9  \n",
       "1          국내도서>컴퓨터/모바일>프로그래밍 언어>파이썬          배움터                  0  \n",
       "2            국내도서>수험서/자격증>민간자격>데이터분석   한빛아카데미(교재)                  0  \n",
       "3          국내도서>컴퓨터/모바일>프로그래밍 언어>파이썬   한빛아카데미(교재)                  0  \n",
       "4          국내도서>컴퓨터/모바일>프로그래밍 언어>파이썬           생능                  0  \n",
       "5          국내도서>컴퓨터/모바일>프로그래밍 언어>파이썬  홍릉(홍릉과학출판사)                  0  \n",
       "6  국내도서>컴퓨터/모바일>프로그래밍 언어>프로그래밍 언어 기타      골든래빗(주)                  0  \n",
       "7          국내도서>컴퓨터/모바일>프로그래밍 언어>파이썬   부크크(bookk)                  0  \n",
       "8          국내도서>컴퓨터/모바일>프로그래밍 언어>파이썬   한빛아카데미(교재)                  0  \n",
       "9          국내도서>컴퓨터/모바일>프로그래밍 언어>파이썬   부크크(bookk)                  0  "
      ]
     },
     "execution_count": 9,
     "metadata": {},
     "output_type": "execute_result"
    }
   ],
   "source": [
    "collect_books_no_limit(TTBKEY, \"python\")"
   ]
  }
 ],
 "metadata": {
  "kernelspec": {
   "display_name": "Python 3 (ipykernel)",
   "language": "python",
   "name": "python3"
  },
  "language_info": {
   "codemirror_mode": {
    "name": "ipython",
    "version": 3
   },
   "file_extension": ".py",
   "mimetype": "text/x-python",
   "name": "python",
   "nbconvert_exporter": "python",
   "pygments_lexer": "ipython3",
   "version": "3.10.9"
  }
 },
 "nbformat": 4,
 "nbformat_minor": 5
}
